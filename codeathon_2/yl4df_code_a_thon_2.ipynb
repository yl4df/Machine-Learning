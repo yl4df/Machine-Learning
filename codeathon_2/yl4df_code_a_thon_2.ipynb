{
  "nbformat": 4,
  "nbformat_minor": 0,
  "metadata": {
    "colab": {
      "name": "yl4df_code.a.thon 2.ipynb",
      "provenance": [],
      "collapsed_sections": [],
      "toc_visible": true
    },
    "kernelspec": {
      "name": "python3",
      "display_name": "Python 3"
    },
    "accelerator": "TPU"
  },
  "cells": [
    {
      "cell_type": "markdown",
      "metadata": {
        "id": "Jg_qdcKlehae",
        "colab_type": "text"
      },
      "source": [
        "#Data input and preprocessing"
      ]
    },
    {
      "cell_type": "code",
      "metadata": {
        "id": "WJUEu_bIGSLz",
        "colab_type": "code",
        "colab": {}
      },
      "source": [
        "from sklearn.multiclass import OneVsRestClassifier\n",
        "from sklearn.svm import SVC\n",
        "from sklearn.pipeline import Pipeline\n",
        "from sklearn.preprocessing import StandardScaler\n",
        "from sklearn.metrics import accuracy_score\n",
        "from sklearn.model_selection import GridSearchCV\n",
        "from sklearn.multiclass import OneVsOneClassifier"
      ],
      "execution_count": 0,
      "outputs": []
    },
    {
      "cell_type": "code",
      "metadata": {
        "id": "8FWRPJQoGDvk",
        "colab_type": "code",
        "outputId": "e4740c08-a7e9-4ae1-9440-a6468999ea43",
        "colab": {
          "base_uri": "https://localhost:8080/",
          "height": 34
        }
      },
      "source": [
        "from sklearn.datasets import fetch_openml\n",
        "mnist = fetch_openml(\"mnist_784\", version = 1)\n",
        "mnist.keys()"
      ],
      "execution_count": 41,
      "outputs": [
        {
          "output_type": "execute_result",
          "data": {
            "text/plain": [
              "dict_keys(['data', 'target', 'feature_names', 'DESCR', 'details', 'categories', 'url'])"
            ]
          },
          "metadata": {
            "tags": []
          },
          "execution_count": 41
        }
      ]
    },
    {
      "cell_type": "code",
      "metadata": {
        "id": "87s9AhaRIEPA",
        "colab_type": "code",
        "colab": {}
      },
      "source": [
        "X, y = mnist['data'], mnist['target']"
      ],
      "execution_count": 0,
      "outputs": []
    },
    {
      "cell_type": "code",
      "metadata": {
        "id": "s_0X58ysIWBh",
        "colab_type": "code",
        "outputId": "ebb6cd0e-ca5e-4467-e48c-8c2ee6e67805",
        "colab": {
          "base_uri": "https://localhost:8080/",
          "height": 34
        }
      },
      "source": [
        "from sklearn.model_selection import train_test_split\n",
        "X_train, X_test, y_train, y_test = train_test_split(X, y, test_size = 0.1, random_state = 42)\n",
        "X_train.shape\n"
      ],
      "execution_count": 43,
      "outputs": [
        {
          "output_type": "execute_result",
          "data": {
            "text/plain": [
              "(63000, 784)"
            ]
          },
          "metadata": {
            "tags": []
          },
          "execution_count": 43
        }
      ]
    },
    {
      "cell_type": "markdown",
      "metadata": {
        "id": "spweUzeodpMD",
        "colab_type": "text"
      },
      "source": [
        "#Fine tune the RBF model.\n",
        "Note: due to the size of our data, the following tuning was run on 3% of the whole data (test_size=0.97)."
      ]
    },
    {
      "cell_type": "code",
      "metadata": {
        "id": "3dwdl3TKmytX",
        "colab_type": "code",
        "outputId": "7822bbd4-fce6-4c37-c12c-2e4baedf4a50",
        "colab": {
          "base_uri": "https://localhost:8080/",
          "height": 51
        }
      },
      "source": [
        "\n",
        "tuned_parameters_rbf = {'ovr_svm_clf_rbf__estimator__gamma': [0.0007, 0.001,0.0013],\n",
        "                     'ovr_svm_clf_rbf__estimator__C': [1, 50, 3000]}\n",
        "svm_clf_rbf = SVC(kernel='rbf', random_state=42)\n",
        "rbf_kernel_svm_clf = Pipeline([\n",
        "    (\"scaler\", StandardScaler()),\n",
        "    (\"ovr_svm_clf_rbf\", OneVsRestClassifier(svm_clf_rbf))\n",
        "])\n",
        "clf = GridSearchCV(rbf_kernel_svm_clf, tuned_parameters_rbf, cv=5,\n",
        "                       scoring=\"accuracy\")\n",
        "clf.fit(X_train, y_train)\n",
        "clf.best_params_"
      ],
      "execution_count": 0,
      "outputs": [
        {
          "output_type": "execute_result",
          "data": {
            "text/plain": [
              "{'ovr_svm_clf_rbf__estimator__C': 50,\n",
              " 'ovr_svm_clf_rbf__estimator__gamma': 0.001}"
            ]
          },
          "metadata": {
            "tags": []
          },
          "execution_count": 13
        }
      ]
    },
    {
      "cell_type": "code",
      "metadata": {
        "id": "Ks01RK4qUlmm",
        "colab_type": "code",
        "outputId": "a9824e1e-d7fa-43c8-c9e7-c0d28c991753",
        "colab": {
          "base_uri": "https://localhost:8080/",
          "height": 170
        }
      },
      "source": [
        "cvres = clf.cv_results_\n",
        "for mean_score, params in zip(cvres[\"mean_test_score\"], cvres[\"params\"]):\n",
        "    print(mean_score, params)"
      ],
      "execution_count": 0,
      "outputs": [
        {
          "output_type": "stream",
          "text": [
            "0.8814285714285715 {'ovr_svm_clf_rbf__estimator__C': 1, 'ovr_svm_clf_rbf__estimator__gamma': 0.0007}\n",
            "0.89 {'ovr_svm_clf_rbf__estimator__C': 1, 'ovr_svm_clf_rbf__estimator__gamma': 0.001}\n",
            "0.8961904761904762 {'ovr_svm_clf_rbf__estimator__C': 1, 'ovr_svm_clf_rbf__estimator__gamma': 0.0013}\n",
            "0.9123809523809524 {'ovr_svm_clf_rbf__estimator__C': 50, 'ovr_svm_clf_rbf__estimator__gamma': 0.0007}\n",
            "0.9157142857142857 {'ovr_svm_clf_rbf__estimator__C': 50, 'ovr_svm_clf_rbf__estimator__gamma': 0.001}\n",
            "0.9152380952380952 {'ovr_svm_clf_rbf__estimator__C': 50, 'ovr_svm_clf_rbf__estimator__gamma': 0.0013}\n",
            "0.9123809523809524 {'ovr_svm_clf_rbf__estimator__C': 3000, 'ovr_svm_clf_rbf__estimator__gamma': 0.0007}\n",
            "0.9157142857142857 {'ovr_svm_clf_rbf__estimator__C': 3000, 'ovr_svm_clf_rbf__estimator__gamma': 0.001}\n",
            "0.9152380952380952 {'ovr_svm_clf_rbf__estimator__C': 3000, 'ovr_svm_clf_rbf__estimator__gamma': 0.0013}\n"
          ],
          "name": "stdout"
        }
      ]
    },
    {
      "cell_type": "markdown",
      "metadata": {
        "id": "-cljHjdQgCoy",
        "colab_type": "text"
      },
      "source": [
        "#Train RBF model using best parameter\n",
        "Note: now we use 90% of our data to train RBF model (test_size=0.1)."
      ]
    },
    {
      "cell_type": "code",
      "metadata": {
        "id": "4RHOJpP9CSL1",
        "colab_type": "code",
        "outputId": "e4347a43-9eba-4275-d225-15c6873c24cb",
        "colab": {
          "base_uri": "https://localhost:8080/",
          "height": 272
        }
      },
      "source": [
        "rbf_kernel_svm_clf = Pipeline([\n",
        "    (\"scaler\", StandardScaler()),\n",
        "    (\"ovr_svm_clf\", OneVsRestClassifier(SVC(kernel='rbf', C=50, gamma = 0.001, random_state = 42)))\n",
        "])\n",
        "rbf_kernel_svm_clf.fit(X_train, y_train)\n"
      ],
      "execution_count": 0,
      "outputs": [
        {
          "output_type": "execute_result",
          "data": {
            "text/plain": [
              "Pipeline(memory=None,\n",
              "         steps=[('scaler',\n",
              "                 StandardScaler(copy=True, with_mean=True, with_std=True)),\n",
              "                ('ovr_svm_clf',\n",
              "                 OneVsRestClassifier(estimator=SVC(C=50, cache_size=200,\n",
              "                                                   class_weight=None, coef0=0.0,\n",
              "                                                   decision_function_shape='ovr',\n",
              "                                                   degree=3, gamma=0.001,\n",
              "                                                   kernel='rbf', max_iter=-1,\n",
              "                                                   probability=False,\n",
              "                                                   random_state=42,\n",
              "                                                   shrinking=True, tol=0.001,\n",
              "                                                   verbose=False),\n",
              "                                     n_jobs=None))],\n",
              "         verbose=False)"
            ]
          },
          "metadata": {
            "tags": []
          },
          "execution_count": 44
        }
      ]
    },
    {
      "cell_type": "code",
      "metadata": {
        "id": "wETxpwu8Uaro",
        "colab_type": "code",
        "outputId": "e169de3f-ae83-4d66-be77-a79824d531ee",
        "colab": {
          "base_uri": "https://localhost:8080/",
          "height": 34
        }
      },
      "source": [
        "y_pred_rbf = rbf_kernel_svm_clf.predict(X_test)\n",
        "accuracy_score(y_test, y_pred_rbf)"
      ],
      "execution_count": 0,
      "outputs": [
        {
          "output_type": "execute_result",
          "data": {
            "text/plain": [
              "0.9754285714285714"
            ]
          },
          "metadata": {
            "tags": []
          },
          "execution_count": 45
        }
      ]
    },
    {
      "cell_type": "markdown",
      "metadata": {
        "id": "fY_mTjiseDpv",
        "colab_type": "text"
      },
      "source": [
        "#Fine tune the poly model. \n",
        "Note: due to the size of our data, the following tuning was run on 3% of the whole data (test_size=0.97)."
      ]
    },
    {
      "cell_type": "code",
      "metadata": {
        "id": "jsMQkpTPk1X_",
        "colab_type": "code",
        "outputId": "e357f99e-b5dc-407e-ef79-978292081ba6",
        "colab": {
          "base_uri": "https://localhost:8080/",
          "height": 68
        }
      },
      "source": [
        "tuned_parameters_poly = {'ovr_svm_clf_poly__estimator__degree': [3, 5],\n",
        "                        'ovr_svm_clf_poly__estimator__C': [50, 10],\n",
        "                        'ovr_svm_clf_poly__estimator__gamma': [0.005, 0.006, 0.006125]}\n",
        "svm_clf_poly = SVC(kernel='poly', random_state=42, coef0=1)\n",
        "poly_kernel_svm_clf = Pipeline([\n",
        "    (\"scaler\", StandardScaler()),\n",
        "    (\"ovr_svm_clf_poly\", OneVsRestClassifier(svm_clf_poly))\n",
        "])\n",
        "poly_clf = GridSearchCV(poly_kernel_svm_clf, tuned_parameters_poly, cv=3,\n",
        "                       scoring=\"accuracy\")\n",
        "poly_clf.fit(X_train, y_train)\n",
        "poly_clf.best_params_"
      ],
      "execution_count": 36,
      "outputs": [
        {
          "output_type": "execute_result",
          "data": {
            "text/plain": [
              "{'ovr_svm_clf_poly__estimator__C': 50,\n",
              " 'ovr_svm_clf_poly__estimator__degree': 3,\n",
              " 'ovr_svm_clf_poly__estimator__gamma': 0.006}"
            ]
          },
          "metadata": {
            "tags": []
          },
          "execution_count": 36
        }
      ]
    },
    {
      "cell_type": "code",
      "metadata": {
        "id": "aeUb1g1HqJR3",
        "colab_type": "code",
        "outputId": "dfc84aba-33ee-43dd-b560-761110aefcfb",
        "colab": {
          "base_uri": "https://localhost:8080/",
          "height": 241
        }
      },
      "source": [
        "cvres = poly_clf.cv_results_\n",
        "for mean_score, params in zip(cvres[\"mean_test_score\"], cvres[\"params\"]):\n",
        "    print(mean_score, params)"
      ],
      "execution_count": 37,
      "outputs": [
        {
          "output_type": "stream",
          "text": [
            "0.929047619047619 {'ovr_svm_clf_poly__estimator__C': 50, 'ovr_svm_clf_poly__estimator__degree': 3, 'ovr_svm_clf_poly__estimator__gamma': 0.005}\n",
            "0.9295238095238095 {'ovr_svm_clf_poly__estimator__C': 50, 'ovr_svm_clf_poly__estimator__degree': 3, 'ovr_svm_clf_poly__estimator__gamma': 0.006}\n",
            "0.9295238095238095 {'ovr_svm_clf_poly__estimator__C': 50, 'ovr_svm_clf_poly__estimator__degree': 3, 'ovr_svm_clf_poly__estimator__gamma': 0.006125}\n",
            "0.9176190476190477 {'ovr_svm_clf_poly__estimator__C': 50, 'ovr_svm_clf_poly__estimator__degree': 5, 'ovr_svm_clf_poly__estimator__gamma': 0.005}\n",
            "0.9176190476190477 {'ovr_svm_clf_poly__estimator__C': 50, 'ovr_svm_clf_poly__estimator__degree': 5, 'ovr_svm_clf_poly__estimator__gamma': 0.006}\n",
            "0.9176190476190477 {'ovr_svm_clf_poly__estimator__C': 50, 'ovr_svm_clf_poly__estimator__degree': 5, 'ovr_svm_clf_poly__estimator__gamma': 0.006125}\n",
            "0.929047619047619 {'ovr_svm_clf_poly__estimator__C': 10, 'ovr_svm_clf_poly__estimator__degree': 3, 'ovr_svm_clf_poly__estimator__gamma': 0.005}\n",
            "0.9295238095238095 {'ovr_svm_clf_poly__estimator__C': 10, 'ovr_svm_clf_poly__estimator__degree': 3, 'ovr_svm_clf_poly__estimator__gamma': 0.006}\n",
            "0.9295238095238095 {'ovr_svm_clf_poly__estimator__C': 10, 'ovr_svm_clf_poly__estimator__degree': 3, 'ovr_svm_clf_poly__estimator__gamma': 0.006125}\n",
            "0.9176190476190477 {'ovr_svm_clf_poly__estimator__C': 10, 'ovr_svm_clf_poly__estimator__degree': 5, 'ovr_svm_clf_poly__estimator__gamma': 0.005}\n",
            "0.9176190476190477 {'ovr_svm_clf_poly__estimator__C': 10, 'ovr_svm_clf_poly__estimator__degree': 5, 'ovr_svm_clf_poly__estimator__gamma': 0.006}\n",
            "0.9176190476190477 {'ovr_svm_clf_poly__estimator__C': 10, 'ovr_svm_clf_poly__estimator__degree': 5, 'ovr_svm_clf_poly__estimator__gamma': 0.006125}\n"
          ],
          "name": "stdout"
        }
      ]
    },
    {
      "cell_type": "markdown",
      "metadata": {
        "id": "RKEPXvlIgUaj",
        "colab_type": "text"
      },
      "source": [
        "#Train Poly model using best parameter\n",
        "Note: now we use 90% of our data to train Poly model (test_size=0.1)."
      ]
    },
    {
      "cell_type": "code",
      "metadata": {
        "id": "tPuMAu-lJoza",
        "colab_type": "code",
        "outputId": "77cedc6b-8434-4bfd-b981-65cd95145147",
        "colab": {
          "base_uri": "https://localhost:8080/",
          "height": 34
        }
      },
      "source": [
        "\n",
        "poly_kernel_svm_clf = Pipeline([\n",
        "    (\"scaler\", StandardScaler()),\n",
        "    (\"ovr_svm_clf\", OneVsRestClassifier(SVC(kernel='poly',degree=3, coef0=1, C=50, random_state=42, gamma=0.006)))\n",
        "])\n",
        "poly_kernel_svm_clf.fit(X_train, y_train)\n",
        "y_pred = poly_kernel_svm_clf.predict(X_test)\n",
        "accuracy_score(y_test, y_pred)"
      ],
      "execution_count": 39,
      "outputs": [
        {
          "output_type": "execute_result",
          "data": {
            "text/plain": [
              "0.9821428571428571"
            ]
          },
          "metadata": {
            "tags": []
          },
          "execution_count": 39
        }
      ]
    },
    {
      "cell_type": "markdown",
      "metadata": {
        "id": "PFn29kHV99ot",
        "colab_type": "text"
      },
      "source": [
        "# Conclusion\n",
        "Based on my tuning by GridSearchCV, we found each best parameters for Polynomial Model and RBF Model. \n",
        "\n",
        "For Polynomial Model, the best parameter is degree=3, C=50, and gamma=0.006. The accuracy for this parameter is 98.21%. \n",
        "\n",
        "For RBF Model, the best parameter is C=50 and gamma=0.001. The accuracy for this parameter is 97.54%. \n",
        "\n",
        "In conclusion, the best model is polynomial model with degree=3, C=50, and gamma=0.006, which has the highest accuracy score 98.21%."
      ]
    }
  ]
}